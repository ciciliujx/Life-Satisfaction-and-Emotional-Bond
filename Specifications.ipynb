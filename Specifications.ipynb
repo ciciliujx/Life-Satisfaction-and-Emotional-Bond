{
 "cells": [
  {
   "cell_type": "markdown",
   "id": "7b3b40ac-376a-49c0-bab9-2ec3ceae39b9",
   "metadata": {},
   "source": [
    "# Run different specifications on the regression model"
   ]
  },
  {
   "cell_type": "code",
   "execution_count": 1,
   "id": "a6db3b33-70bd-4a67-94c9-eb522fc5a8cc",
   "metadata": {},
   "outputs": [
    {
     "name": "stderr",
     "output_type": "stream",
     "text": [
      "── \u001b[1mAttaching packages\u001b[22m ─────────────────────────────────────── tidyverse 1.3.1 ──\n",
      "\n",
      "\u001b[32m✔\u001b[39m \u001b[34mggplot2\u001b[39m 3.3.6     \u001b[32m✔\u001b[39m \u001b[34mpurrr  \u001b[39m 0.3.4\n",
      "\u001b[32m✔\u001b[39m \u001b[34mtibble \u001b[39m 3.1.8     \u001b[32m✔\u001b[39m \u001b[34mdplyr  \u001b[39m 1.0.9\n",
      "\u001b[32m✔\u001b[39m \u001b[34mtidyr  \u001b[39m 1.2.0     \u001b[32m✔\u001b[39m \u001b[34mstringr\u001b[39m 1.4.0\n",
      "\u001b[32m✔\u001b[39m \u001b[34mreadr  \u001b[39m 2.1.2     \u001b[32m✔\u001b[39m \u001b[34mforcats\u001b[39m 0.5.1\n",
      "\n",
      "Warning message:\n",
      "“package ‘ggplot2’ was built under R version 4.1.3”\n",
      "Warning message:\n",
      "“package ‘tidyr’ was built under R version 4.1.2”\n",
      "Warning message:\n",
      "“package ‘readr’ was built under R version 4.1.2”\n",
      "Warning message:\n",
      "“package ‘dplyr’ was built under R version 4.1.3”\n",
      "── \u001b[1mConflicts\u001b[22m ────────────────────────────────────────── tidyverse_conflicts() ──\n",
      "\u001b[31m✖\u001b[39m \u001b[34mdplyr\u001b[39m::\u001b[32mfilter()\u001b[39m masks \u001b[34mstats\u001b[39m::filter()\n",
      "\u001b[31m✖\u001b[39m \u001b[34mdplyr\u001b[39m::\u001b[32mlag()\u001b[39m    masks \u001b[34mstats\u001b[39m::lag()\n",
      "\n",
      "Warning message:\n",
      "“package ‘haven’ was built under R version 4.1.3”\n",
      "Warning message:\n",
      "“package ‘stargazer’ was built under R version 4.1.2”\n",
      "\n",
      "Please cite as: \n",
      "\n",
      "\n",
      " Hlavac, Marek (2022). stargazer: Well-Formatted Regression and Summary Statistics Tables.\n",
      "\n",
      " R package version 5.2.3. https://CRAN.R-project.org/package=stargazer \n",
      "\n",
      "\n"
     ]
    }
   ],
   "source": [
    "library(tidyverse)\n",
    "library(haven)\n",
    "library(stargazer)"
   ]
  },
  {
   "cell_type": "markdown",
   "id": "6aa192d2-4b1d-4d47-9e0f-4a3d05fb5c22",
   "metadata": {},
   "source": [
    "## Data Cleaning"
   ]
  },
  {
   "cell_type": "code",
   "execution_count": 2,
   "id": "15b6aaf5-cf3f-4794-b544-850b33b350c6",
   "metadata": {},
   "outputs": [],
   "source": [
    "dat <- read_dta(\"data/CCHS_Annual_2017_2018_curated_trimmed_25%.dta\") |> \n",
    "    select(GEN_010, SPS_040, dhhgage, DHH_SEX, dhhdglvg) |>\n",
    "    na.omit()"
   ]
  },
  {
   "cell_type": "code",
   "execution_count": 3,
   "id": "a4352770-3eb4-458f-9a4c-4a96c3ed919b",
   "metadata": {},
   "outputs": [],
   "source": [
    "dat_cleaned <- dat |>\n",
    "    rename(satisfaction = GEN_010, emo_bond = SPS_040, age = dhhgage, sex = DHH_SEX, family = dhhdglvg) |>\n",
    "    filter(satisfaction < 11 & emo_bond <= 4 & age <= 16 & sex <= 2 & family <= 8) |> #filter out invalid values\n",
    "    mutate(sex = as_factor(sex),\n",
    "           emo_bond = as_factor(emo_bond),\n",
    "         family = as_factor(family),\n",
    "         age = as_factor(age))"
   ]
  },
  {
   "cell_type": "code",
   "execution_count": 9,
   "id": "548bdd10-e4a1-416d-baed-6f3af1097f8c",
   "metadata": {},
   "outputs": [],
   "source": [
    "dat_cleaned$age <- case_when(dat_cleaned$age == \"Age between 12 and 14\" ~ 13,\n",
    "                            dat_cleaned$age == \"Age between 15 and 17\" ~ 16,\n",
    "                            dat_cleaned$age == \"Age between 18 and 19\" ~ 18.5,\n",
    "                            dat_cleaned$age == \"Age between 20 and 24\" ~ 22,\n",
    "                            dat_cleaned$age == \"Age between 25 and 29\" ~ 27,\n",
    "                            dat_cleaned$age == \"Age between 30 and 34\" ~ 32,\n",
    "                            dat_cleaned$age == \"Age between 35 and 39\" ~ 37,\n",
    "                            dat_cleaned$age == \"Age between 40 and 44\" ~ 42,\n",
    "                            dat_cleaned$age == \"Age between 45 and 49\" ~ 47,\n",
    "                            dat_cleaned$age == \"Age between 50 and 54\" ~ 52,\n",
    "                            dat_cleaned$age == \"Age between 55 and 59\" ~ 57,\n",
    "                            dat_cleaned$age == \"Age between 60 and 64\" ~ 62,\n",
    "                            dat_cleaned$age == \"Age between 65 and 69\" ~ 67,\n",
    "                            dat_cleaned$age == \"Age between 70 and 74\" ~ 72,\n",
    "                            dat_cleaned$age == \"Age between 75 and 79\" ~ 77,\n",
    "                            dat_cleaned$age == \"Age 80 and older\" ~ 80\n",
    ")"
   ]
  },
  {
   "cell_type": "markdown",
   "id": "b872eeb1-aefa-4d8d-8e13-6d989ca0b04c",
   "metadata": {},
   "source": [
    "We re-code the family arrangement as living condition which involves four levels - living alone (alone), unattached individual living with others (living with others), living with family (living with family), and others (other). We force \"other\" as the base group since it does not contain economic information."
   ]
  },
  {
   "cell_type": "code",
   "execution_count": 27,
   "id": "5ce87e69-4d1b-436f-9dba-c4627c7c62f9",
   "metadata": {},
   "outputs": [],
   "source": [
    "dat_cleaned$living <- case_when(dat_cleaned$family == 'Unattached individual living alone.' ~ 'alone',\n",
    "                                dat_cleaned$family == 'Unattached individual living with others.' ~ 'living with others',\n",
    "                                dat_cleaned$family == 'Individual living with spouse/partner.' ~ 'living with family',\n",
    "                                dat_cleaned$family == 'Parent living with spouse/partner and child(ren).' ~ 'living with family',\n",
    "                                dat_cleaned$family == 'Single parent living with children.' ~ 'living with family',\n",
    "                                dat_cleaned$family == 'Child living with a single parent with or without siblings.' ~ 'living with family',\n",
    "                                dat_cleaned$family == 'Child living with two parents with or without siblings' ~ 'living with family',\n",
    "                               dat_cleaned$family == 'Other' ~ 'Other')\n",
    "\n",
    "dat_cleaned$living <- factor(dat_cleaned$living, levels = c(\"Other\", \"alone\", \"living with others\", \"living with family\"))"
   ]
  },
  {
   "cell_type": "markdown",
   "id": "356af5e6-c2a7-43e5-b859-37636f19ea1f",
   "metadata": {},
   "source": [
    "## Model\n",
    "To perform the statistical analysis, we will estimate a linear regression model in this paper:\n",
    "\n",
    "$$\n",
    "Y_i = \\beta_0 + \\sum_{b=1}^3 \\beta_{1, b} E^b_{i} + \\beta_2 A_i + \\sum_{b=1}^3 \\sigma_{b} (E^b_{i} \\times A_i) + \\alpha X_i + \\epsilon_i\n",
    "$$\n",
    "\n",
    "Let $i$ index the observation. \n",
    "- $Y_i$ is the satisfaction with life in general. \n",
    "- $E_i$ is the degree of agreement for strong emotional bond with at least one person. In the summation function $\\sum_{b=1}^3 \\beta_{1, b} E^b_{i}$, $E^b_{i}$ is an indicator variable equal to one if $E_i$ falls in the given level $b$ (e.g., “agree”). \n",
    "- $A_i$ is the age. \n",
    "- $E^b_{i} \\times A_i$ is the interaction between the emotional bond of a given category $b$ and age. We include this term because we hypothesize that the effect of emotional bond on life satisfaction may depend on age groups, as indicated by the previous study (Vandeleur et al., 2009). \n",
    "- $X_i$ represents other control variables. As mentioned above, we will include sex and living/family arrangement, for which we will run different specifications for multiple trials."
   ]
  },
  {
   "cell_type": "markdown",
   "id": "cbff4536-9b07-4eb3-9f2b-dc66eefc4c64",
   "metadata": {},
   "source": [
    "### Specifications"
   ]
  },
  {
   "cell_type": "markdown",
   "id": "e32e4962-7084-41af-b75c-9c308e595643",
   "metadata": {},
   "source": [
    "I choose 4 specifications. \n",
    "\n",
    "Adhering to our proposed model, my first specification is only considering the first three terms of our primary interest.\n",
    "\n",
    "Having a look at the regression coefficients of the first specification, I realized the effects of interaction term on satisfaction are not significant. Thus, I run the second specification similar to the first one but left the interaction term.\n",
    "\n",
    "Later, I took control variables into account. In the third specification, I included \"sex\" in the model. In the fourth one, I included \"family arrangement.\""
   ]
  },
  {
   "cell_type": "markdown",
   "id": "7fa9f225-e7df-49d4-895c-d0cd1a52d91c",
   "metadata": {},
   "source": [
    "#### Specification 1 - Without controls, with interaction"
   ]
  },
  {
   "cell_type": "code",
   "execution_count": 12,
   "id": "cbeed60c-4fe4-4393-817e-aa96abd75850",
   "metadata": {},
   "outputs": [],
   "source": [
    "reg1 = lm(satisfaction ~ emo_bond + age + emo_bond:age, data = dat_cleaned)"
   ]
  },
  {
   "cell_type": "markdown",
   "id": "18a68dc2-3ee8-48ff-8858-b4fc91310ba9",
   "metadata": {},
   "source": [
    "#### Specification 2 - Without controls, without interaction"
   ]
  },
  {
   "cell_type": "code",
   "execution_count": 13,
   "id": "097bbdf4-9d43-40ca-823d-ab08404a1c10",
   "metadata": {},
   "outputs": [],
   "source": [
    "reg2 = lm(satisfaction ~ emo_bond + age, data = dat_cleaned)"
   ]
  },
  {
   "cell_type": "markdown",
   "id": "eee27608-3cd3-43d7-a4d5-33ad9da5bb2e",
   "metadata": {},
   "source": [
    "#### Specification 3 - Controlling \"sex\", without interaction"
   ]
  },
  {
   "cell_type": "code",
   "execution_count": 14,
   "id": "8952d48e-c87c-4806-ab30-117343ffce6c",
   "metadata": {},
   "outputs": [],
   "source": [
    "reg3 = lm(satisfaction ~ emo_bond + age + sex, data = dat_cleaned)"
   ]
  },
  {
   "cell_type": "markdown",
   "id": "3bda6204-57d6-4c6d-ada1-4ac9899d0cd1",
   "metadata": {},
   "source": [
    "#### Specification 4 - Controlling \"family arrangement\", without interaction"
   ]
  },
  {
   "cell_type": "code",
   "execution_count": 28,
   "id": "2625c8b9-88cc-494a-bc26-efd455108818",
   "metadata": {},
   "outputs": [],
   "source": [
    "reg4 = lm(satisfaction ~ emo_bond + age + living, data = dat_cleaned)"
   ]
  },
  {
   "cell_type": "markdown",
   "id": "33068e4a-7f4e-4114-b5eb-e73df8cc13bd",
   "metadata": {},
   "source": [
    "## Output Summary - Regression Table"
   ]
  },
  {
   "cell_type": "code",
   "execution_count": 17,
   "id": "3cb76457-617d-45c7-a2d9-3a882ef88e04",
   "metadata": {},
   "outputs": [
    {
     "name": "stdout",
     "output_type": "stream",
     "text": [
      "\n",
      "==========================================================================================================\n",
      "                                                          Dependent variable:                             \n",
      "                              ----------------------------------------------------------------------------\n",
      "                                                              satisfaction                                \n",
      "                                        (1)                       (2)                       (3)           \n",
      "----------------------------------------------------------------------------------------------------------\n",
      "emo_bondAgree                        -0.503***                 -0.620***                 -0.620***        \n",
      "                                      (0.102)                   (0.038)                   (0.038)         \n",
      "                                                                                                          \n",
      "emo_bondDisagree                     -1.373***                 -1.702***                 -1.702***        \n",
      "                                      (0.273)                   (0.102)                   (0.102)         \n",
      "                                                                                                          \n",
      "emo_bondStrongly disagree            -2.883***                 -2.674***                 -2.674***        \n",
      "                                      (0.898)                   (0.281)                   (0.282)         \n",
      "                                                                                                          \n",
      "age                                   -0.003**                 -0.004***                 -0.004***        \n",
      "                                      (0.001)                   (0.001)                   (0.001)         \n",
      "                                                                                                          \n",
      "emo_bondAgree:age                      -0.002                                                             \n",
      "                                      (0.002)                                                             \n",
      "                                                                                                          \n",
      "emo_bondDisagree:age                   -0.007                                                             \n",
      "                                      (0.005)                                                             \n",
      "                                                                                                          \n",
      "emo_bondStrongly disagree:age          0.004                                                              \n",
      "                                      (0.016)                                                             \n",
      "                                                                                                          \n",
      "sexFemale                                                                                  0.001          \n",
      "                                                                                          (0.037)         \n",
      "                                                                                                          \n",
      "Constant                              8.468***                 8.524***                  8.524***         \n",
      "                                      (0.063)                   (0.050)                   (0.053)         \n",
      "                                                                                                          \n",
      "----------------------------------------------------------------------------------------------------------\n",
      "Observations                           8,130                     8,130                     8,130          \n",
      "R2                                     0.067                     0.067                     0.067          \n",
      "Adjusted R2                            0.067                     0.067                     0.067          \n",
      "Residual Std. Error              1.635 (df = 8122)         1.635 (df = 8125)         1.635 (df = 8124)    \n",
      "F Statistic                   83.940*** (df = 7; 8122) 146.163*** (df = 4; 8125) 116.916*** (df = 5; 8124)\n",
      "==========================================================================================================\n",
      "Note:                                                                          *p<0.1; **p<0.05; ***p<0.01\n"
     ]
    }
   ],
   "source": [
    "stargazer(reg1, reg2, reg3, type = \"text\")"
   ]
  },
  {
   "cell_type": "code",
   "execution_count": 29,
   "id": "7bbb8c3d-ccff-414a-9930-ef287b08c3a5",
   "metadata": {},
   "outputs": [
    {
     "name": "stdout",
     "output_type": "stream",
     "text": [
      "\n",
      "=====================================================\n",
      "                              Dependent variable:    \n",
      "                          ---------------------------\n",
      "                                 satisfaction        \n",
      "-----------------------------------------------------\n",
      "emo_bondAgree                      -0.579***         \n",
      "                                    (0.038)          \n",
      "                                                     \n",
      "emo_bondDisagree                   -1.517***         \n",
      "                                    (0.102)          \n",
      "                                                     \n",
      "emo_bondStrongly disagree          -2.455***         \n",
      "                                    (0.279)          \n",
      "                                                     \n",
      "age                                 -0.001           \n",
      "                                    (0.001)          \n",
      "                                                     \n",
      "livingalone                        -0.206**          \n",
      "                                    (0.092)          \n",
      "                                                     \n",
      "livingliving with others            -0.135           \n",
      "                                    (0.126)          \n",
      "                                                     \n",
      "livingliving with family           0.348***          \n",
      "                                    (0.087)          \n",
      "                                                     \n",
      "Constant                           8.206***          \n",
      "                                    (0.093)          \n",
      "                                                     \n",
      "-----------------------------------------------------\n",
      "Observations                         8,130           \n",
      "R2                                   0.088           \n",
      "Adjusted R2                          0.087           \n",
      "Residual Std. Error            1.617 (df = 8122)     \n",
      "F Statistic                111.879*** (df = 7; 8122) \n",
      "=====================================================\n",
      "Note:                     *p<0.1; **p<0.05; ***p<0.01\n"
     ]
    }
   ],
   "source": [
    "stargazer(reg4, type = \"text\") # no enough space, thus output a new table"
   ]
  },
  {
   "cell_type": "markdown",
   "id": "52c7ae66-df01-4b99-9ac1-ed869ac47261",
   "metadata": {},
   "source": [
    "### Analysis"
   ]
  },
  {
   "cell_type": "markdown",
   "id": "f1276454-842b-4ea5-9d98-cad822a15af6",
   "metadata": {},
   "source": [
    "The first specification aligns with out initial model excluding the control variable. The coefficients are significant except those for the interaction terms. \n",
    "\n",
    "Thus, in the second specification, we dropped the interaction terms. From here, as the degree of disagreement to the statement \"having emotional bonds with at least one person\" increases, the coefficient on life satisfaction decreases with statistical significance. This holds true across specifications, indicating that the perception of emotional bonds with others is highly likely to be positively correlated to the satisfaction with life in general. What's more, the coefficient values ($\\hat{\\beta_{1, 1}} = -0.50, \\hat{\\beta_{1, 2}} = -1.37, \\hat{\\beta_{1, 3}} = -2.89$) are relatively large in a 0-10 scale, meaning the emotional bonds might be an essential element that affects life satisfaction. This answers part of our research question.\n",
    "\n",
    "Also, the coefficient of age on life satisfaction ($\\hat{\\beta_2} = -0.004$) is statistically significant. Though the absolute value is small, a very small standard error ($se = 0.001$) indicates the effect of age on life satisfaction does not vary much across data. The coefficient presents that the life satisfaction has minor decrease in unit increase in age.\n",
    "\n",
    "In the third specification, we add sex as the control variable into the regression equation. The coefficient (-0.001) is very small and not statistically significant. It also does not affect the estimates for coefficients of our main interest, suggesting the effects of emotional bonds and age on life satisfaction do not differ in sex.\n",
    "\n",
    "In the fourth specification, we have the living condition as the control variable in the model. As they are included, the absolute values of coefficients of emotional bond on life satisfaction slightly decrease, and the standard errors almost hold constant, compared to specification two. However, the coefficient on age changes from -0.004 to -0.001 and is insignificant. This may suggest that living condition accounts most of the effect of age on life satisfaction. However, since we derive the variable of the living condition from the original variable \"family arrangement,\" it should be careful of its features. The levels of the original variable contain information of the age group (e.g., living condition of \"parent\" and \"children\"). This may disturb the investigation."
   ]
  },
  {
   "cell_type": "code",
   "execution_count": null,
   "id": "732f28ae-b916-4743-8d11-ea1fe1b0e057",
   "metadata": {},
   "outputs": [],
   "source": []
  }
 ],
 "metadata": {
  "kernelspec": {
   "display_name": "R",
   "language": "R",
   "name": "ir"
  },
  "language_info": {
   "codemirror_mode": "r",
   "file_extension": ".r",
   "mimetype": "text/x-r-source",
   "name": "R",
   "pygments_lexer": "r",
   "version": "4.1.1"
  }
 },
 "nbformat": 4,
 "nbformat_minor": 5
}
